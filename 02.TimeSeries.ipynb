{
 "cells": [
  {
   "cell_type": "markdown",
   "metadata": {},
   "source": [
    "# Series de tiempo.\n",
    "\n",
    "En esta libreta veremos series de tiempo en pandas. Primero veremos un poco de visualización, manipulación, etc. de series de tiempo. Veremos un poco de teoría \"clásica\" para lidiar con series de tiempo (muchas veces la teoría clásica le gana a las redes neuronales, sobre todo en series simples). Después, poco a poco, veremos cómo usar redes neuronales para series de tiempo.\n",
    "\n",
    "Usaremos  `statsmodels` (puedes instalarlo con `conda install statsmodels`)."
   ]
  },
  {
   "cell_type": "code",
   "execution_count": null,
   "metadata": {},
   "outputs": [],
   "source": [
    "import numpy as np\n",
    "import pandas as pd\n",
    "from datetime import datetime\n",
    "\n",
    "import matplotlib\n",
    "import matplotlib.pyplot as plt"
   ]
  },
  {
   "cell_type": "markdown",
   "metadata": {},
   "source": [
    "Vamos a usar un dataset de juguete para experimentar. Contiene las temperaturas mínimas de cada día de 1981 a 1990 en una ciudad de Australia. Lo puedes descargar [aquí](https://raw.githubusercontent.com/jbrownlee/Datasets/master/daily-min-temperatures.csv)."
   ]
  },
  {
   "cell_type": "code",
   "execution_count": null,
   "metadata": {},
   "outputs": [],
   "source": [
    "df = pd.read_csv(\"TimeSeries/daily-min-temperatures.csv\"); df"
   ]
  },
  {
   "cell_type": "code",
   "execution_count": null,
   "metadata": {},
   "outputs": [],
   "source": [
    "df = pd.read_csv(\"TimeSeries/daily-min-temperatures.csv\",index_col='Date')"
   ]
  },
  {
   "cell_type": "code",
   "execution_count": null,
   "metadata": {},
   "outputs": [],
   "source": [
    "df"
   ]
  },
  {
   "cell_type": "code",
   "execution_count": null,
   "metadata": {},
   "outputs": [],
   "source": [
    "df.index"
   ]
  },
  {
   "cell_type": "code",
   "execution_count": null,
   "metadata": {},
   "outputs": [],
   "source": [
    "df = pd.read_csv(\"TimeSeries/daily-min-temperatures.csv\",index_col='Date',parse_dates=True)"
   ]
  },
  {
   "cell_type": "code",
   "execution_count": null,
   "metadata": {},
   "outputs": [],
   "source": [
    "df"
   ]
  },
  {
   "cell_type": "code",
   "execution_count": null,
   "metadata": {},
   "outputs": [],
   "source": [
    "df['1985-01-01':'1986-01-01']"
   ]
  },
  {
   "cell_type": "code",
   "execution_count": null,
   "metadata": {},
   "outputs": [],
   "source": [
    "df.describe()"
   ]
  },
  {
   "cell_type": "code",
   "execution_count": null,
   "metadata": {},
   "outputs": [],
   "source": [
    "df.info()"
   ]
  },
  {
   "cell_type": "markdown",
   "metadata": {},
   "source": [
    "## Visualización en pandas\n",
    "\n",
    "Siempre, SIEMPRE lo primero que tienes que hacer con un nuevo dataset es VERLO. Entenderlo, ver el formato, qué significan las columnas, etc. etc. etc.\n",
    "\n",
    "En este caso es súper sencillito, así que con algunas visualizaciones podemos entenderlo."
   ]
  },
  {
   "cell_type": "code",
   "execution_count": null,
   "metadata": {},
   "outputs": [],
   "source": [
    "df.plot.hist(edgecolor='k',bins=20)"
   ]
  },
  {
   "cell_type": "code",
   "execution_count": null,
   "metadata": {},
   "outputs": [],
   "source": [
    "df.plot.line(y='Temp',figsize=(20,6))"
   ]
  },
  {
   "cell_type": "code",
   "execution_count": null,
   "metadata": {},
   "outputs": [],
   "source": [
    "df.plot.area(alpha=0.5)"
   ]
  },
  {
   "cell_type": "code",
   "execution_count": null,
   "metadata": {},
   "outputs": [],
   "source": [
    "df.plot.box(figsize=(20,6))"
   ]
  },
  {
   "cell_type": "code",
   "execution_count": null,
   "metadata": {},
   "outputs": [],
   "source": [
    "df.plot.kde()"
   ]
  },
  {
   "cell_type": "markdown",
   "metadata": {},
   "source": [
    "## Agregando columnas.\n",
    "\n",
    "Digamos que queremos añadir la columna \"mes\""
   ]
  },
  {
   "cell_type": "code",
   "execution_count": null,
   "metadata": {},
   "outputs": [],
   "source": [
    "df.index"
   ]
  },
  {
   "cell_type": "code",
   "execution_count": null,
   "metadata": {},
   "outputs": [],
   "source": [
    "df.index.month_name()"
   ]
  },
  {
   "cell_type": "code",
   "execution_count": null,
   "metadata": {},
   "outputs": [],
   "source": [
    "df['Mes'] = df.index.month"
   ]
  },
  {
   "cell_type": "code",
   "execution_count": null,
   "metadata": {},
   "outputs": [],
   "source": [
    "df"
   ]
  },
  {
   "cell_type": "code",
   "execution_count": null,
   "metadata": {},
   "outputs": [],
   "source": [
    "por_mes = df.groupby('Mes').mean()"
   ]
  },
  {
   "cell_type": "code",
   "execution_count": null,
   "metadata": {},
   "outputs": [],
   "source": [
    "por_mes.sort_index()"
   ]
  },
  {
   "cell_type": "code",
   "execution_count": null,
   "metadata": {},
   "outputs": [],
   "source": [
    "df.groupby('Mes').mean().plot.line()"
   ]
  },
  {
   "cell_type": "code",
   "execution_count": null,
   "metadata": {},
   "outputs": [],
   "source": [
    "df[\"Anio\"] = df.index.year"
   ]
  },
  {
   "cell_type": "code",
   "execution_count": null,
   "metadata": {},
   "outputs": [],
   "source": [
    "df"
   ]
  },
  {
   "cell_type": "code",
   "execution_count": null,
   "metadata": {},
   "outputs": [],
   "source": [
    "temp_mensual = df.groupby(['Anio','Mes']).mean()"
   ]
  },
  {
   "cell_type": "code",
   "execution_count": null,
   "metadata": {},
   "outputs": [],
   "source": [
    "temp_mensual[:24].plot.line(figsize=(20,6))"
   ]
  },
  {
   "cell_type": "markdown",
   "metadata": {},
   "source": [
    "- Para categóricas: bar, barh\n",
    "- Para ver relaciones entre variables: scatter, con s (size) y c (color), alpha, etc.\n",
    "\n",
    "### Ejercicio para uds ahorita: \n",
    "Analiza 2015-2018-historical-schoo-attendance.csv.\n",
    "\n",
    "En particular:\n",
    "- Está separado por escuela. Si quieremos ver el trend \"global\", ¿cómo lo juntamos? (hint: groupby)\n",
    "- Crea columnas de porcentajes. Si faltaron 10 de 20 es muy diferente que si faltaron 10 de 10000.\n",
    "- Visualíza cada variable. \n",
    "- Visualiza las parejas de variables. Usa scatter para ver relaciones. hex plots."
   ]
  },
  {
   "cell_type": "markdown",
   "metadata": {},
   "source": [
    "## Primera regla de series de tiempo: Valida con **lo último**, no con aleatorios."
   ]
  },
  {
   "cell_type": "code",
   "execution_count": null,
   "metadata": {},
   "outputs": [],
   "source": [
    "df=df.sort_index()"
   ]
  },
  {
   "cell_type": "code",
   "execution_count": null,
   "metadata": {},
   "outputs": [],
   "source": [
    "len(df)"
   ]
  },
  {
   "cell_type": "code",
   "execution_count": null,
   "metadata": {},
   "outputs": [],
   "source": [
    "train_df = df[:3000]\n",
    "valid_df = df[3000:]"
   ]
  },
  {
   "cell_type": "code",
   "execution_count": null,
   "metadata": {},
   "outputs": [],
   "source": [
    "train_df"
   ]
  },
  {
   "cell_type": "markdown",
   "metadata": {},
   "source": [
    "## Baselines\n",
    "\n",
    "Lo primero que tenemos que hacer es establecer las baselines. Tenemos dos baselines \"estándar\" para series de tiempo: \n",
    "1. Promedio \n",
    "2. Repite última. \n",
    "\n",
    "A veces funciona mejor una y a veces otra. En el caso de la temperatura: ¿qué creen que funcione mejor? Para discutir: ¿en qué casos creen que funcione mejor una y en qué casos la otra?\n",
    "\n",
    "Vamos a ver como calcularlas."
   ]
  },
  {
   "cell_type": "markdown",
   "metadata": {},
   "source": [
    "### Última"
   ]
  },
  {
   "cell_type": "code",
   "execution_count": null,
   "metadata": {},
   "outputs": [],
   "source": [
    "df"
   ]
  },
  {
   "cell_type": "code",
   "execution_count": null,
   "metadata": {},
   "outputs": [],
   "source": [
    " df['Temp'].shift(1)"
   ]
  },
  {
   "cell_type": "code",
   "execution_count": null,
   "metadata": {},
   "outputs": [],
   "source": [
    "df['ultima_temp'] = df['Temp'].shift(1)"
   ]
  },
  {
   "cell_type": "code",
   "execution_count": null,
   "metadata": {},
   "outputs": [],
   "source": [
    "df"
   ]
  },
  {
   "cell_type": "code",
   "execution_count": null,
   "metadata": {},
   "outputs": [],
   "source": [
    "df.plot.scatter(x='ultima_temp',y='Temp',alpha=0.5)"
   ]
  },
  {
   "cell_type": "code",
   "execution_count": null,
   "metadata": {},
   "outputs": [],
   "source": [
    "df[['Temp','ultima_temp']].plot.line(figsize=(20,6))"
   ]
  },
  {
   "cell_type": "code",
   "execution_count": null,
   "metadata": {},
   "outputs": [],
   "source": [
    "df[['Temp','ultima_temp']][200:400].plot.line(figsize=(20,6))"
   ]
  },
  {
   "cell_type": "code",
   "execution_count": null,
   "metadata": {},
   "outputs": [],
   "source": [
    "valid_df = df[3000:]"
   ]
  },
  {
   "cell_type": "code",
   "execution_count": null,
   "metadata": {},
   "outputs": [],
   "source": [
    "%%timeit\n",
    "sum(abs(valid_df['Temp'] - valid_df['ultima_temp']))/len(valid_df)"
   ]
  },
  {
   "cell_type": "code",
   "execution_count": null,
   "metadata": {},
   "outputs": [],
   "source": [
    "%%timeit\n",
    "error_ultima = np.mean(np.abs(valid_df['Temp'] - valid_df['ultima_temp'])); error_ultima"
   ]
  },
  {
   "cell_type": "code",
   "execution_count": null,
   "metadata": {},
   "outputs": [],
   "source": [
    "def error_l1(df,colA,colB):\n",
    "    valid_df = df[3000:]\n",
    "    return np.mean(np.abs(valid_df[colA]-valid_df[colB]))"
   ]
  },
  {
   "cell_type": "code",
   "execution_count": null,
   "metadata": {},
   "outputs": [],
   "source": [
    "def error_rmse(df,colA,colB):\n",
    "    valid_df = df[3000:]\n",
    "    return np.sqrt(np.mean(np.square(valid_df[colA]-valid_df[colB])))"
   ]
  },
  {
   "cell_type": "code",
   "execution_count": null,
   "metadata": {},
   "outputs": [],
   "source": [
    "error_rmse(df,\"Temp\",\"ultima_temp\")"
   ]
  },
  {
   "cell_type": "markdown",
   "metadata": {},
   "source": [
    "### Promedio"
   ]
  },
  {
   "cell_type": "code",
   "execution_count": null,
   "metadata": {},
   "outputs": [],
   "source": [
    "df['Temp'].expanding()"
   ]
  },
  {
   "cell_type": "code",
   "execution_count": null,
   "metadata": {},
   "outputs": [],
   "source": [
    "df"
   ]
  },
  {
   "cell_type": "code",
   "execution_count": null,
   "metadata": {},
   "outputs": [],
   "source": [
    "df['promedio_temp'] = df['Temp'].expanding().mean().shift(1)"
   ]
  },
  {
   "cell_type": "code",
   "execution_count": null,
   "metadata": {},
   "outputs": [],
   "source": [
    "df"
   ]
  },
  {
   "cell_type": "code",
   "execution_count": null,
   "metadata": {},
   "outputs": [],
   "source": [
    "df[['Temp','promedio_temp']].plot.line(figsize=(20,6))"
   ]
  },
  {
   "cell_type": "code",
   "execution_count": null,
   "metadata": {},
   "outputs": [],
   "source": [
    "error_promedio = error_l1(df,'promedio_temp','Temp'); error_promedio"
   ]
  },
  {
   "cell_type": "code",
   "execution_count": null,
   "metadata": {},
   "outputs": [],
   "source": [
    "error_rmse(df,'promedio_temp','Temp')"
   ]
  },
  {
   "cell_type": "markdown",
   "metadata": {},
   "source": [
    "Oooh, estuvo mucho peor el error del promedio que de la última. Esto es por las \"estaciones\"."
   ]
  },
  {
   "cell_type": "code",
   "execution_count": null,
   "metadata": {},
   "outputs": [],
   "source": [
    "df['Temp'][3400:-40].plot()"
   ]
  },
  {
   "cell_type": "markdown",
   "metadata": {},
   "source": [
    "## Moving average.\n",
    "\n",
    "En esta misma linea de pensar \"baselines\" de qué hacer, sigamos con las ideas.\n",
    "\n",
    "Imaginemos que tenemos una cantidad que va creciendo constantemente poco a poco pero con ruido (e.g. temperatura, economía). Si tomamos el promedio de TODO lo anterior, pues claro que no va a funcionar bien, porque el promedio siempre será más chico que el real. Las temperaturas más recientes son más indicativas de qué está pasando, pero si siempre adivinamos la última, tendríamos mucho ruido.\n",
    "\n",
    "Realmente, si tú tuvieras que adivinar el siguiente viendo el dibujito, ¿qué harías?\n",
    "\n",
    "Probablemente se te ocurriría no tomar el anterior, sino el promedio de los $k$   anteriores (con $k=5$ o algún número chiquito)."
   ]
  },
  {
   "cell_type": "code",
   "execution_count": null,
   "metadata": {},
   "outputs": [],
   "source": [
    "df['promedio_ultimas_2'] = df['Temp'].rolling(2).mean().shift(1)\n",
    "df['promedio_ultimas_3'] = df['Temp'].rolling(3).mean().shift(1)\n",
    "df['promedio_ultimas_4'] = df['Temp'].rolling(4).mean().shift(1)\n",
    "df['promedio_ultimas_5'] = df['Temp'].rolling(5).mean().shift(1)\n",
    "df['promedio_ultimas_50'] = df['Temp'].rolling(50).mean().shift(1)"
   ]
  },
  {
   "cell_type": "code",
   "execution_count": null,
   "metadata": {},
   "outputs": [],
   "source": [
    "df"
   ]
  },
  {
   "cell_type": "code",
   "execution_count": null,
   "metadata": {},
   "outputs": [],
   "source": [
    "[error_l1(df,'Temp',f'promedio_ultimas_{i}') for i in range(2,6)]"
   ]
  },
  {
   "cell_type": "code",
   "execution_count": null,
   "metadata": {},
   "outputs": [],
   "source": [
    "[error_rmse(df,'Temp',f'promedio_ultimas_{i}') for i in range(2,6)]"
   ]
  },
  {
   "cell_type": "code",
   "execution_count": null,
   "metadata": {},
   "outputs": [],
   "source": [
    "df[['Temp','promedio_ultimas_50']].plot.line(figsize=(20,6))"
   ]
  },
  {
   "cell_type": "markdown",
   "metadata": {},
   "source": [
    "## Seasonality, Trend\n",
    "\n",
    "En realidad muchos datos tienen una componente de \"seasonality\", o periodicidad y también una \"trend\" o \"tendencia\". Hay miles de maneras de separar en estas dos componentes. Veremos algunas.\n",
    "\n",
    "### Filtro de Hodrick-Prescott.\n",
    "La idea es separar la señal en dos componentes así:\n",
    "    $$y_t = \\tau_t + c_t$$\n",
    "donde $\\tau$ denota la tendencia y $c$ la componente cíclica. Los encontramos minimizando lo siguiente:\n",
    "    $$min_{\\tau_t} \\sum c_t^2 + \\lambda \\sum \\left[ (\\tau_t - \\tau_{t-1}) - (\\tau_{t-1} -\\tau_{t-2}) \\right]$$\n",
    "donde $\\lambda$ es un parámetro de suavizado que se puede escoger. Usualmente se pone dependiendo del periodo de repetición (luego veremos otros métodos que lo escogen automáticamente). Por ejemplo, $\\lambda = 6.25$ para datos anuales (como el que tenemos)."
   ]
  },
  {
   "cell_type": "code",
   "execution_count": null,
   "metadata": {},
   "outputs": [],
   "source": [
    "import statsmodels as sm\n",
    "from statsmodels.tsa.filters.hp_filter import hpfilter"
   ]
  },
  {
   "cell_type": "code",
   "execution_count": null,
   "metadata": {},
   "outputs": [],
   "source": [
    "hpfilter??"
   ]
  },
  {
   "cell_type": "code",
   "execution_count": null,
   "metadata": {},
   "outputs": [],
   "source": [
    "temp_trend, temp_cycle  = hpfilter(df['Temp'],lamb=130000)"
   ]
  },
  {
   "cell_type": "code",
   "execution_count": null,
   "metadata": {},
   "outputs": [],
   "source": [
    "df['temp_cycle'] = temp_cycle\n",
    "df['temp_trend'] = temp_trend"
   ]
  },
  {
   "cell_type": "code",
   "execution_count": null,
   "metadata": {},
   "outputs": [],
   "source": [
    "df[['temp_cycle','temp_trend']].plot()"
   ]
  },
  {
   "cell_type": "code",
   "execution_count": null,
   "metadata": {},
   "outputs": [],
   "source": [
    "df[['Temp','temp_trend']].plot()"
   ]
  },
  {
   "cell_type": "markdown",
   "metadata": {},
   "source": [
    "Ejercicio: repetir con \"macrodata\"."
   ]
  },
  {
   "cell_type": "code",
   "execution_count": null,
   "metadata": {},
   "outputs": [],
   "source": [
    "d = pd.read_csv('TimeSeries/macrodata.csv', index_col=0, parse_dates=True)"
   ]
  },
  {
   "cell_type": "code",
   "execution_count": null,
   "metadata": {},
   "outputs": [],
   "source": [
    "d"
   ]
  },
  {
   "cell_type": "code",
   "execution_count": null,
   "metadata": {},
   "outputs": [],
   "source": [
    "d['realgdp'].plot()"
   ]
  },
  {
   "cell_type": "code",
   "execution_count": null,
   "metadata": {},
   "outputs": [],
   "source": [
    "realgdp_cycle, realgdp_trend  = hpfilter(d['realgdp'],lamb=6.25)"
   ]
  },
  {
   "cell_type": "code",
   "execution_count": null,
   "metadata": {},
   "outputs": [],
   "source": [
    "d['realgdp_cycle'] = realgdp_cycle\n",
    "d['realgdp_trend'] = realgdp_trend"
   ]
  },
  {
   "cell_type": "code",
   "execution_count": null,
   "metadata": {},
   "outputs": [],
   "source": [
    "d[['realgdp_cycle','realgdp_trend']].plot()"
   ]
  },
  {
   "cell_type": "markdown",
   "metadata": {},
   "source": [
    "## Modelos ETS: Error, Trend, Seasonality\n",
    "\n"
   ]
  },
  {
   "cell_type": "code",
   "execution_count": null,
   "metadata": {},
   "outputs": [],
   "source": [
    "from statsmodels.tsa.seasonal import seasonal_decompose"
   ]
  },
  {
   "cell_type": "code",
   "execution_count": null,
   "metadata": {},
   "outputs": [],
   "source": [
    "result = seasonal_decompose(df['Temp'],period=365)"
   ]
  },
  {
   "cell_type": "code",
   "execution_count": null,
   "metadata": {},
   "outputs": [],
   "source": [
    "import pylab"
   ]
  },
  {
   "cell_type": "code",
   "execution_count": null,
   "metadata": {},
   "outputs": [],
   "source": [
    "pylab.rcParams['figure.figsize'] = (20.0, 10.0)"
   ]
  },
  {
   "cell_type": "code",
   "execution_count": null,
   "metadata": {},
   "outputs": [],
   "source": [
    "result.plot();"
   ]
  },
  {
   "cell_type": "code",
   "execution_count": null,
   "metadata": {},
   "outputs": [],
   "source": [
    "sb=pd.read_csv('TimeSeries/UDEMY_TSA_FINAL/Data/starbucks.csv')"
   ]
  },
  {
   "cell_type": "code",
   "execution_count": null,
   "metadata": {},
   "outputs": [],
   "source": [
    "result = seasonal_decompose(sb['Close'],period=365)"
   ]
  },
  {
   "cell_type": "code",
   "execution_count": null,
   "metadata": {},
   "outputs": [],
   "source": [
    "result.plot();"
   ]
  },
  {
   "cell_type": "markdown",
   "metadata": {},
   "source": [
    "## Exponentially weighted moving average\n",
    "\n",
    "Algo que funciona muy bien muchas veces es calcular el \"exponentially weighted moving average\": Importan todos los términos anteriores pero cada uno vale un poco menos. Por ejemplo, si los términos de la sucesión son $x_0,x_1,...,x_n$ y nosotros adivinamos $y_0,y_1,\\dots,y_n$, podríamos calcular así:\n",
    "    $$y_n = \\frac{\\alpha x_{n-1} + \\alpha^2 x_{n-2} + \\dots + \\alpha^n x_0}{\\alpha+\\alpha^2+\\dots+\\alpha^n}$$\n",
    "    \n",
    "Es decir, estamos haciendo un promedio en donde a cada uno le damos un peso más y más chico que decae exponencialmente.\n",
    "\n",
    "Otra manera de verlo (mucho más sencilla) es así:\n",
    "$$y_1 = x_0$$\n",
    "$$y_n = \\alpha x_{n-1} + (1-\\alpha) y_{n-1}$$\n",
    "    \n",
    "Es decir, para calcular el siguiente término, llevamos \"la cuenta\" y el siguiente término lo calculamos como $\\alpha\\ \\times$ el nuevo término + $(1-\\alpha)\\ \\times$ lo que ya llevábamos.\n",
    "\n",
    "Entonces ejercicio: calcúlenlo uds. No tiene que ser eficiente ni nada, solo háganlo."
   ]
  },
  {
   "cell_type": "code",
   "execution_count": null,
   "metadata": {},
   "outputs": [],
   "source": [
    "def ewma(L,α=0.1):\n",
    "    valor=L[0]\n",
    "    resultado=[valor]\n",
    "    for l in L[1:]:\n",
    "        valor = α*l+(1-α)*valor\n",
    "        resultado.append(valor)\n",
    "    return resultado"
   ]
  },
  {
   "cell_type": "code",
   "execution_count": null,
   "metadata": {},
   "outputs": [],
   "source": [
    "df[\"temp_ewma\"]= ewma(df[\"Temp\"], α = 0.05)"
   ]
  },
  {
   "cell_type": "code",
   "execution_count": null,
   "metadata": {},
   "outputs": [],
   "source": [
    "df"
   ]
  },
  {
   "cell_type": "code",
   "execution_count": null,
   "metadata": {},
   "outputs": [],
   "source": [
    "df[[\"Temp\", \"temp_ewma\"]].plot()"
   ]
  },
  {
   "cell_type": "code",
   "execution_count": null,
   "metadata": {},
   "outputs": [],
   "source": [
    "df[\"temp_ewma\"]= ewma(df[\"Temp\"], α = 0.8)"
   ]
  },
  {
   "cell_type": "code",
   "execution_count": null,
   "metadata": {},
   "outputs": [],
   "source": [
    "error_l1(df, 'Temp', 'temp_ewma')"
   ]
  },
  {
   "cell_type": "code",
   "execution_count": null,
   "metadata": {},
   "outputs": [],
   "source": [
    "error_rmse(df, 'Temp', 'temp_ewma')"
   ]
  },
  {
   "cell_type": "markdown",
   "metadata": {},
   "source": [
    "## EWMA en pandas\n",
    "\n",
    "En pandas ya está EWMA:"
   ]
  },
  {
   "cell_type": "code",
   "execution_count": null,
   "metadata": {},
   "outputs": [],
   "source": [
    "df['EWMA'] = df['Temp'].ewm(alpha=0.3).mean()"
   ]
  },
  {
   "cell_type": "code",
   "execution_count": null,
   "metadata": {},
   "outputs": [],
   "source": [
    "df[200:400].plot(figsize=(20,6))"
   ]
  },
  {
   "cell_type": "markdown",
   "metadata": {},
   "source": [
    "Hay varias maneras de entender los parámetros de ewm, pero lo que hace es calcular alpha. Por ejemplo, podemos definir la vida media. Lo mejor es jugarle."
   ]
  },
  {
   "cell_type": "markdown",
   "metadata": {},
   "source": [
    "## Método de Holt-Winters\n",
    "\n",
    "¿Cuál es el problema de EWMA? Imaginemos que los valores fueran creciendo constantemente. Sería razonable pensar que seguirá creciendo. EWMA siempre predice valores más pequeños que el último, porque es simplemente un promedio pesado. Vamos entonces a usar una componente de \"tendencia\" $b_t$, en donde simplemente mediremos qué tanto van creciendo o disminuyendo los valores (método de Holt). Posteriormente le agregaremos una componente de \"periodicidad\" $s_t$ (seasonality), en donde tomaremos en cuenta los valores del periodo anterior para modelar los ciclos que vemos.\n",
    "\n",
    "En resumen, usamos 3 componentes: \n",
    "1. $\\ell_t$ para el \"nivel\" (EWMA básicamente)\n",
    "2. $b_t$ para la tendencia\n",
    "3. $s_t$ para la periodicidad\n",
    "\n",
    "Cada uno tendrá su parámetro de suavizado: $\\alpha, \\beta, \\gamma$.\n",
    "\n",
    "Primero veremos una versión más sencilla, el método de Holt, donde solo tomamos en cuenta $\\ell$ y $b$.\n",
    "\n",
    "### Método de Holt\n",
    "En EWMA teníamos:\n",
    "$$y_0 = x_0$$\n",
    "$$y_n = \\alpha x_{n} + (1-\\alpha) y_{n-1}$$\n",
    "\n",
    "Para tomar en cuenta la tendencia, debemos medir cómo va cambiando el nivel en cada medición y tomaremos el promedio de éstos:\n",
    "\n",
    "$$\\ell_t = (1-\\alpha)\\ell_t + \\alpha x_t$$\n",
    "$$b_t = (1-\\beta)b_{t-1} + \\beta(\\ell_t-\\ell_{t-1})$$\n",
    "$$y_t = \\ell_t + b_t$$\n",
    "\n",
    "Prográmalo aquí:"
   ]
  },
  {
   "cell_type": "code",
   "execution_count": null,
   "metadata": {},
   "outputs": [],
   "source": [
    "def holt(X,α,β):\n",
    "    n = len(X)\n",
    "    L = [X[0]]\n",
    "    B = [0]\n",
    "    Y = [X[0]]\n",
    "    for i in range(1,n):\n",
    "        li = α*X[i] + (1-α)*L[i-1]\n",
    "        L.append(li)\n",
    "        bi = (1-β)*B[-1] + β*(L[i]-L[i-1])\n",
    "        B.append(bi)\n",
    "        yi = li + bi\n",
    "        Y.append(yi)\n",
    "    return Y\n",
    "        "
   ]
  },
  {
   "cell_type": "code",
   "execution_count": null,
   "metadata": {},
   "outputs": [],
   "source": [
    "df['Holt_temp'] = holt(df['Temp'],0.1,0.2)"
   ]
  },
  {
   "cell_type": "code",
   "execution_count": null,
   "metadata": {},
   "outputs": [],
   "source": [
    "df[['Holt_temp','Temp']][200:400].plot()"
   ]
  },
  {
   "cell_type": "markdown",
   "metadata": {},
   "source": [
    "Ejercicios: \n",
    "1. Juega con los parámetros α,β.\n",
    "2. Pregunta: Si quisiéramos predecir qué pasa en 10 (o 20) tiempos... ¿qué predecimos?"
   ]
  },
  {
   "cell_type": "markdown",
   "metadata": {},
   "source": [
    "$$ y_{t+k} \\approx y_t + k\\cdot b_t $$ "
   ]
  },
  {
   "cell_type": "markdown",
   "metadata": {},
   "source": [
    "## Método de Holt-Winters: \n",
    "\n",
    "Ahora, de la misma manera, podemos entender cómo tomar en cuenta la seasonality. Digamos que creemos que el ciclo debe tener periodo $L$ (e.g. 365). Vamos a considerar un factor $s_t$ multiplicativo (e.g. $y_t = (\\ell_t + b_t)s_t$) que irá cambiando con el periodo.\n",
    "\n",
    "$$\\ell_t = (1-\\alpha)\\ell_t + \\alpha x_t$$\n",
    "$$b_t = (1-\\beta)b_{t-1} + \\beta(\\ell_t-\\ell_{t-1})$$\n",
    "$$s_t = (1-\\gamma)s_{t-L} + \\gamma(x_t-\\ell_{t-1}-b_{t-1}) $$\n",
    "$$y_t = (\\ell_t + b_t)s_t$$"
   ]
  },
  {
   "cell_type": "markdown",
   "metadata": {},
   "source": [
    "Ejercicios de tarea:\n",
    "1. Programa este método. Para los primeros $L$ periodos, $s_t = 1$.\n",
    "2. Grafica $s_t$, $b_t$, $\\ell_t$.\n",
    "3. Pregunta: ¿cómo se hace forecasting con este método? (hint: la respuesta contiene un \"módulo L\"). \n",
    "4. Mide el error."
   ]
  }
 ],
 "metadata": {
  "kernelspec": {
   "display_name": "Python 3",
   "language": "python",
   "name": "python3"
  },
  "language_info": {
   "codemirror_mode": {
    "name": "ipython",
    "version": 3
   },
   "file_extension": ".py",
   "mimetype": "text/x-python",
   "name": "python",
   "nbconvert_exporter": "python",
   "pygments_lexer": "ipython3",
   "version": "3.7.6"
  }
 },
 "nbformat": 4,
 "nbformat_minor": 4
}
